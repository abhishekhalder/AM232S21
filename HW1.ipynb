{
 "cells": [
  {
   "cell_type": "markdown",
   "metadata": {},
   "source": [
    "# Problem 1 [100 points] Shape of co-axial soap film \n",
    "\n",
    "<img src=\"SoapFilm.png\">\n",
    "\n",
    "Consider dipping two co-axial wire rings of **equal radius $r$** in soapy water (try it at home) and slowly pull them away from each other. You should see that the soap film forms a surface of revolution shown in the left figure above. The purpose of this exercise is to determine the equuation of this surface."
   ]
  },
  {
   "cell_type": "markdown",
   "metadata": {},
   "source": [
    "## (a) [10 + 10 = 20 points] Standard CoV form\n",
    "\n",
    "Let the common axis of the two rings be the $x$-axis, as shown in the right figure above. As shown, consider placing the center of the two rings at $x = \\pm L$. The soap film surface takes **the shape that minimizes the energy due to surface tension**.\n",
    "\n",
    "Due to the rings being co-axial, the soap film surface must be a surface of revolution of some curve $y=u(x)$, see right figure. Therefore, the infinitesimal surface area of a strip of length ${\\rm{d}}s$ equals $2\\pi y\\:{\\rm{d}}s$. The energy due to surface tension for that strip, then, equals\n",
    "\n",
    "$${\\rm{d}}E = \\underbrace{\\text{surface tension coefficient}}_{\\sigma\\;(\\text{known constant})} \\times \\underbrace{\\text{surface area}}_{2\\pi y\\:{\\rm{d}}s} = 2\\pi\\sigma u(x)\\:{\\rm{d}}s.$$\n",
    "\n",
    "(i) Given the data $r,L$, **write the problem** $\\underset{u\\in C^{1}([-L,L])}{\\min}\\:\\int_{x=-L}^{x=L}{\\rm{d}}E\\;$ **in the standard CoV form with appropriate boundary conditions**.\n",
    "\n",
    "(ii) From there, **clearly write down the Lagrangian** $\\mathcal{L}(x,u,u^{\\prime})$."
   ]
  },
  {
   "cell_type": "markdown",
   "metadata": {},
   "source": [
    "## (b) [10 points] Existence of minimizer\n",
    "\n",
    "Consider the Theorem in Lec. 3, p. 5. **Carefully argue** if the minimizer for the problem in part (a) is guaranteed to exist or not. Give all the details."
   ]
  },
  {
   "cell_type": "markdown",
   "metadata": {},
   "source": [
    "## (c) [5 + 35 = 40 points] Computing the optimal solution\n",
    "\n",
    "(i) Can we use the **Beltrami identity** to compute the optimal solution for the problem in part (a)? **Why/why not?**\n",
    "\n",
    "(ii) **Prove that** the optimal solution is $u^{*}(x) = c\\:\\cosh\\left(\\dfrac{x}{c}\\right)$ where $\\cosh(\\cdot)$ denotes the hyperbolic cosine, and the constant $k:=1/c$ solves a transcendental equation\n",
    "$$k r = \\cosh\\left(kL\\right).$$"
   ]
  },
  {
   "cell_type": "markdown",
   "metadata": {},
   "source": [
    "## (d) [10 + 10 + 10 = 30 points] Numerics\n",
    "\n",
    "**Please submit your MATLAB code for the following**.\n",
    "\n",
    "(i) Let us fix the problem data $L=1$, and recall that the radius $r$ (also problem data) must be positive. Write a simple MATLAB code to uniformly discretize $k\\in[-5,5]$ in the steps of 0.01. Then use the same code to **generate a lineplot** of $k$ (in the horizontal axis) versus $r$ (in the vertical axis) **verifying that** there is (unique) minimum value of $r_{\\min}>0$ such that for $r=r_{\\min}$ we have exactly one solution, for $r>r_{\\min}$ there are two solutions, and for $r<r_{\\min}$ there are no solutions.\n",
    "\n",
    "(ii) Use the same code in part (d)-(i), **to compute** $r_{\\min}$.\n",
    "\n",
    "(iii) Use the same code in part (d)-(i), **to plot the unique minimum energy surface formed by the soap film** for $r=r_{\\min}$ computed in part (d)-(ii)."
   ]
  }
 ],
 "metadata": {
  "kernelspec": {
   "display_name": "Python 2",
   "language": "python",
   "name": "python2"
  },
  "language_info": {
   "codemirror_mode": {
    "name": "ipython",
    "version": 2
   },
   "file_extension": ".py",
   "mimetype": "text/x-python",
   "name": "python",
   "nbconvert_exporter": "python",
   "pygments_lexer": "ipython2",
   "version": "2.7.16"
  }
 },
 "nbformat": 4,
 "nbformat_minor": 2
}
