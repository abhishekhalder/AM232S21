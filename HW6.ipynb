{
 "cells": [
  {
   "cell_type": "markdown",
   "metadata": {},
   "source": [
    "# Problem 1. [100 points] Singular OCP\n",
    "\n",
    "Suppose we have a time invariant OCP in Mayer form with **free final time $T$**, given by \n",
    "\n",
    "$$\\underset{u(\\cdot)}{\\text{minimize}}\\quad\\phi(x(T))$$\n",
    "subject to\n",
    "$$\\dot{x} = f(x) + g(x) u, \\quad x\\in\\mathbb{R}^{3}, \\quad u\\in\\mathbb{R}, \\quad x(0)\\;\\text{given},\\quad \\text{terminal constraint:}\\;\\psi(x(T))=0, \\quad u_{\\min}\\leq u \\leq u_{\\max}.$$\n",
    "\n",
    "The corresponding Hamiltonian $H = \\langle\\lambda,f(x)+g(x)u\\rangle$ is linear in the control $u$."
   ]
  },
  {
   "cell_type": "markdown",
   "metadata": {},
   "source": [
    "## (a) [(3 + 3 + 3 + 3) + 18 = 30 points] Necessary conditions\n",
    "\n",
    "(i) Write down the **costate ODE**, the **PMP**, the **transversality conditions**, and the **singular arc or switching curve involving costate** for the optimal control, if any. \n",
    "\n",
    "Hint: Lec. 14, p. 2-3.\n",
    "\n",
    "(ii) A **singular surface** is a 2D surface in our 3D state space such that the optimal control is singular exactly when the state vector is on that surface. Derive the equation of the **singular surface** only in terms of the components of the vector fields $f,g$ and $h:= [f,g]$ (Lie bracket).\n",
    "\n",
    "Hint: You may need basic linear algebra: when does a system of homogeneous linear equation have nontrivial solution? "
   ]
  },
  {
   "cell_type": "markdown",
   "metadata": {},
   "source": [
    "## (b) [(3 + 3 + 3 + 3 + 8) + 20 + 10 = 50 points] Application: launching rocket on a planet\n",
    "\n",
    "Suppose that a space robotics mission has successfully landed a rover on a planet whose atmospheric properties are not precisely known. To take direct atmospheric measurements, the rover launches a **small** rocket with initial mass $m_{0}$ that **vertically ascends** upto some height **within** that atomosphere and collects data during its flight. For this robotic experiment to be scientifically meaningful, it is desired to **maximize the final altitude** of the rocket.\n",
    "\n",
    "The plan is that during its ascent, the rocket will record and transmit data to the rover, and then simply drop off on the surface.\n",
    "\n",
    "Define the state vector of the rocket as $x:=(v,h,m)^{\\top}$ where $v$ is its vertical velocity, $h$ is its altitude, and $m$ is its mass. Because the rocket needs to burn propellant, its mass is time-varying. At the **free final time $T$** when the maximum altitude is reached, the rocket has final mass $m_{T}$ (given).\n",
    "\n",
    "A **known drag force** $D(v,h)$, that depends on $v$ and $h$, acts during the rocket's ascent. The only control variable is the magnitude of the thrust $F$. The OCP becomes\n",
    "$$\\underset{F(\\cdot)}{\\text{maximize}}\\quad h(T)$$\n",
    "subject to\n",
    "$$\\begin{pmatrix}\n",
    "\\dot{v}\\\\\n",
    "\\dot{h}\\\\\n",
    "\\dot{m}\n",
    "\\end{pmatrix} = \\begin{pmatrix}\n",
    "\\frac{1}{m}\\left(F-D\\right) -g\\\\\n",
    "v\\\\\n",
    "-\\frac{1}{c}F\n",
    "\\end{pmatrix}, \\quad \\begin{pmatrix}\n",
    "v(0)\\\\\n",
    "h(0)\\\\\n",
    "m(0)\n",
    "\\end{pmatrix} = \\begin{pmatrix}\n",
    "0\\\\\n",
    "0\\\\\n",
    "m_{0}\n",
    "\\end{pmatrix}\\;\\text{given}, \\quad m(T)=m_{T}\\;\\text{given}, \\quad 0\\leq F \\leq F_{\\max},$$\n",
    "\n",
    "where $g>0$ is the planet's acceleration due to gravity (known constant), and $c>0$ is the specific impluse of the rocket engine (known constant).\n",
    "\n",
    "(i) Use your answer in part (a) to clearly write down the **costate ODEs**, the **PMP**, the **transversality conditions**, the **singular arc or switching curve**, and the **equation of singular surface** for this particular problem.\n",
    "\n",
    "(ii) Clearly derive the **optimal singular feedback control**, that is, the optimal state feedback $F$ **when the state is on the singular surface**.\n",
    "\n",
    "(iii) What type of policy is the optimal state feedback? Is it bang-bang or bang-off-bang or something else? **Explain**."
   ]
  },
  {
   "cell_type": "markdown",
   "metadata": {},
   "source": [
    "## (c) [20 points] Numerical plot for singular surface\n",
    "\n",
    "Let $D(v,h) := \\frac{1}{2}\\rho_{0}SC_{D}v^{2}\\exp(-\\beta h)$, where $\\rho_{0}SC_{D} = 620$, $\\beta = 500$. Set $g=1$, $c=0.5$. For this case, write a simple MATLAB code to make a plot of the singular surface using MATLAB command surf."
   ]
  }
 ],
 "metadata": {
  "kernelspec": {
   "display_name": "Python 2",
   "language": "python",
   "name": "python2"
  },
  "language_info": {
   "codemirror_mode": {
    "name": "ipython",
    "version": 2
   },
   "file_extension": ".py",
   "mimetype": "text/x-python",
   "name": "python",
   "nbconvert_exporter": "python",
   "pygments_lexer": "ipython2",
   "version": "2.7.16"
  }
 },
 "nbformat": 4,
 "nbformat_minor": 2
}
