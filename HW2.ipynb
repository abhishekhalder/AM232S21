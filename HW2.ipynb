{
 "cells": [
  {
   "cell_type": "markdown",
   "metadata": {},
   "source": [
    "# Problem 2. [50 points] Particle inside a Cone\n",
    "\n",
    "<img src=\"cone.png\" width=\"200\">\n",
    "\n",
    "Consider a particle of mass $m$ (in red) sliding down (due to Earth's gravity) along the frinctionless inner surface of a right circular cone whose vertex is fixed to the ground, and its axis is vertical, see Figure. The half angle at the apex is equal to $\\alpha$, as shown.\n",
    "\n",
    "Suppose that at a generic time $t$, the distance of the particle from the vertical axis is $r(t)$, and its angular position in the conic cross-section is $\\theta(t)$, as shown in the Figure."
   ]
  },
  {
   "cell_type": "markdown",
   "metadata": {},
   "source": [
    "## (a) [30 points] Equation of motion\n",
    "\n",
    "Use Euler-Lagrange equation to **prove that** there exists a constant $k$ such that $r(t)$ satisfies the ODE\n",
    "\n",
    "$$\\ddot{r} - \\frac{k\\sin^{2}\\alpha}{m^2 r^3} + g\\sin\\alpha\\cos\\alpha = 0,$$\n",
    "where $g$ is the (constant) acceleration due to gravity."
   ]
  },
  {
   "cell_type": "markdown",
   "metadata": {},
   "source": [
    "## (b) [(4 + 4 + 2) + 10 = 20 points] Conserved quantities\n",
    "\n",
    "(b.1) **Compute** the total energy $E$, and the Hamiltonian $H$ at a generic time $t$. Is $H=E$ in this case?\n",
    "\n",
    "(b.2) Use your answer in part (b.1) to conclude if any of the two quantities among $H$ and $E$ is a constant of motion."
   ]
  },
  {
   "cell_type": "markdown",
   "metadata": {},
   "source": [
    "# [50 points] Brachistochrone as OCP\n",
    "\n",
    "In this exercise, we will solve Brachistochrone as an OCP."
   ]
  },
  {
   "cell_type": "markdown",
   "metadata": {},
   "source": [
    "## (a) [10 points] Reformulation\n",
    "\n",
    "To reformulate the Brachistochrone problem of going from point $A\\equiv(0,0)$ to point $B\\equiv(x_{1},y_{1})$ as a **minimum time optimal control problem** with terminal time $T$ free, and terminal state $(x(T),y(T))$ fixed, consider the control to be the angle $\\theta$ that the velocity vector $V$ (tangent to the curve) makes at a generic location $(x,y)$, with respect to the horizontal direction. **Clealry write down the OCP in this case** following the general template."
   ]
  },
  {
   "cell_type": "markdown",
   "metadata": {},
   "source": [
    "## (b) [30 points] Two identities\n",
    "\n",
    "**Prove that** the optimal position tuple $(x(t),y(t))$ at any time $t\\in[0,T]$, is given by\n",
    "\n",
    "$$x(t) = x_{1} + \\frac{y_{1}}{2\\cos^{2}\\theta(T)}\\bigg\\{2\\left(\\theta(T) - \\theta(t)\\right) + \\sin\\left(2\\theta(T)\\right) - \\sin\\left(2\\theta(t)\\right)\\bigg\\}, \\quad y(t) = y_{1}\\frac{\\cos^{2}\\theta(t)}{\\cos^{2}\\theta(T)}.$$\n",
    "\n",
    "The above two identities allow (numerically) solving for $(\\theta(t),\\theta(T))$ as function of $(x(t),y(t))$. This helps define the optimal state feedback: $\\theta(t)$ as function of $(x(t),y(t))$."
   ]
  },
  {
   "cell_type": "markdown",
   "metadata": {},
   "source": [
    "## (c) [2 + 3 + 5 = 10 points] Properties of optimal solution\n",
    "\n",
    "(c.1) **Prove that** the optimal control $\\theta(t)$ satisfies $\\dot{\\theta} = $ constant.\n",
    "\n",
    "(c.2) **Prove that** $\\theta(0) = \\frac{\\pi}{2}$. Give a physical interpretation of this result.\n",
    "\n",
    "(c.3) Letting $\\phi := \\pi - 2\\theta$, use your answer in part (b) to **deduce that** the optimal curve is a cycloid."
   ]
  }
 ],
 "metadata": {
  "kernelspec": {
   "display_name": "Python 2",
   "language": "python",
   "name": "python2"
  },
  "language_info": {
   "codemirror_mode": {
    "name": "ipython",
    "version": 2
   },
   "file_extension": ".py",
   "mimetype": "text/x-python",
   "name": "python",
   "nbconvert_exporter": "python",
   "pygments_lexer": "ipython2",
   "version": "2.7.16"
  }
 },
 "nbformat": 4,
 "nbformat_minor": 2
}
