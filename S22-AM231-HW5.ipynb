{
  "metadata": {
    "language_info": {
      "codemirror_mode": {
        "name": "python",
        "version": 3
      },
      "file_extension": ".py",
      "mimetype": "text/x-python",
      "name": "python",
      "nbconvert_exporter": "python",
      "pygments_lexer": "ipython3",
      "version": "3.8"
    },
    "kernelspec": {
      "name": "python",
      "display_name": "Pyolite",
      "language": "python"
    }
  },
  "nbformat_minor": 4,
  "nbformat": 4,
  "cells": [
    {
      "cell_type": "markdown",
      "source": "# Problem 1. [2 x 4 = 8 points] Activation Function and Sector Nonlinearity\n\nIn Lec. 11, p. 14-16, we introduced sector nonlinearity. In this exercise, we examine some concrete examples/non-examples.\n\n**Explain** which of the following commonly used neural network activation functions $\\sigma:\\mathbb{R}^{m}\\mapsto\\mathbb{R}^{m}$, are sector bounded and which are not? If any of these are sector-bounded then **derive** the corresponding sectors $[\\alpha,\\beta]$ as in Lec. 11, p. 15-16.\n\n(a) ReLU activation $\\sigma(x) = \\max\\{0_{m\\times 1},x\\}$ where $x\\in\\mathbb{R}^{m}$ and $\\max\\{\\cdot,\\cdot\\}$ is elementwise.\n\n(b) Leaky ReLU activation $\\sigma(x) = \\max\\{a x,x\\}$ where $x\\in\\mathbb{R}^{m}$, $a>0$, and $\\max\\{\\cdot,\\cdot\\}$ is elementwise.\n\n(c) Sigmoid activation $\\sigma(x) = \\exp(x)\\oslash\\left(\\boldsymbol{1} + \\exp(x)\\right)$ where $x\\in\\mathbb{R}^{m}$, $\\boldsymbol{1}$ is all-ones column vector, $\\oslash$ denotes elementwise division, and $\\exp(\\cdot)$ is elementwise. \n\n(d) Softmax activation $\\sigma(x) = \\dfrac{\\exp(x)}{\\boldsymbol{1}^{\\top}\\exp(x)}$ where $x\\in\\mathbb{R}^{m}$, $\\boldsymbol{1}$ is all-ones column vector, and $\\exp(\\cdot)$ is elementwise. ",
      "metadata": {}
    },
    {
      "cell_type": "markdown",
      "source": "# Problem 2. [50 points] Feedback Stabilization \n\nConsider the scalar control system $\\dot{x}=-x^{3} + u$. We want to design (static) state feedback control $u=u(x)$ such that origin of the closed-loop system is GAS. We will design multiple stabilizing controllers for this system, and compare their performance.",
      "metadata": {}
    },
    {
      "cell_type": "markdown",
      "source": "(a) **[5 points]** Design a **feedback linearizing controller** $u_{\\rm{FL}}(x)$ by applying \"cancel the nonlinearity and get a stable linear closed-loop system\" idea.",
      "metadata": {}
    },
    {
      "cell_type": "markdown",
      "source": "(b) **[5 points]** Prove that a **linear feedback controller** $u_{\\rm{L}}(x)=−x$ also makes the origin of the closed-loop system GAS. You will need to use the Barbashin-Krtasovskii theorem.",
      "metadata": {}
    },
    {
      "cell_type": "markdown",
      "source": "(c) **[5 + 5 = 10 points]** **Give two reasons** why the controller $u_{\\rm{L}}(x)$ in part (b) is a better controller than $u_\\rm{FL}(x)$ in part (a). (**Hint:** think rate-of-convergence of the closed-loop system, and magnitude of control signal for large $x$. For the latter, you may find it insightful to plot $|u|$ as function of $x$.)",
      "metadata": {}
    },
    {
      "cell_type": "markdown",
      "source": "(d) **[5 points]** The answer in part (c) tells us that it is better not to kill \"friendly nonlinearity\". Consider another design idea: **doing nothing controller**, i.e., $u_0(x)\\equiv 0$ for all $x\\in\\mathbb{R}$. Prove that $u_0(x)$ also makes the origin GAS.",
      "metadata": {}
    },
    {
      "cell_type": "markdown",
      "source": "(e) **[5 + 5 = 10 points]** **Give one advantage and one disadvantage** of $u_0(x)$ compared to $u_{\\rm{L}}(x)$. Again think in terms of the hint in part (c).",
      "metadata": {}
    },
    {
      "cell_type": "markdown",
      "source": "(f) **[5 points]** Design another globally asymptotically stabilizing controller $u_{\\rm{S}}(x)$ using **Sontag’s formula** in Lec. 13. For this purpose, you need to use a CLF: use what comes to your mind without much thought.",
      "metadata": {}
    },
    {
      "cell_type": "markdown",
      "source": "(g) **[5 + 5 = 10 points]** From your answer in part (f), **argue that** near $x=0$, we have $u_{\\rm{S}}(x)\\approx u_{\\rm{L}}(x)$; and for $|x|\\rightarrow\\infty$, we have $u_{\\rm{S}}(x)\\approx u_{0}(x)$, and therefore, $u_{\\rm{S}}(x)$ outperforms all the previous controllers.\n\nIn a single figure, **plot all the four controllers** as functions of $x$.",
      "metadata": {}
    },
    {
      "cell_type": "markdown",
      "source": "# Problem 3. [42 points] Backstepping\n\nConsider the following 3 state control system which is a modification of the worked out example in Lec. 13, p. 14-16, with an additional integrator at the input side:\n\\begin{array}{l}\n\\dot{x}_{1}=x_{1}^{2}-x_{1}^{3}+x_{2}, \\\\\n\\dot{x}_{2}=x_{3}, \\\\\n\\dot{x}_{3}=u.\n\\end{array}",
      "metadata": {}
    },
    {
      "cell_type": "markdown",
      "source": "## (a) [20 points] Controller synthesis\n**Design** an integrator backstepping controller to make the origin GAS. In other words, find the feedback $u(x_1,x_2,x_3)$ and the overall Lyapunov certificate $V(x_1,x_2,x_3)$.",
      "metadata": {}
    },
    {
      "cell_type": "markdown",
      "source": "## (b) [22 points] Numerical simulation\n\nUse your answer in part (a) to write a MATLAB function $\\texttt{𝙱𝚊𝚌𝚔𝚜𝚝𝚎𝚙𝚙𝚒𝚗𝚐𝙲𝚕𝚘𝚜𝚎𝚍𝙻𝚘𝚘𝚙.𝚖}$ that can be called by the supplied executable $\\texttt{𝙱𝚊𝚌𝚔𝚜𝚝𝚎𝚙𝚙𝚒𝚗𝚐.𝚖}$ in CANVAS Files section. Submit the two plots generated by $\\texttt{𝙱𝚊𝚌𝚔𝚜𝚝𝚎𝚙𝚙𝚒𝚗𝚐.𝚖}$: \n\n(i) a phase portrait of the closed loop dynamics for 10 randomly generated initial conditions, \n\n(ii) a representative time series plot for a specific controlled trajectory.\n\nThe plot commands are already there in $\\texttt{𝙱𝚊𝚌𝚔𝚜𝚝𝚎𝚙𝚙𝚒𝚗𝚐.𝚖}$. So your job is to correctly implement the function $\\texttt{𝙱𝚊𝚌𝚔𝚜𝚝𝚎𝚙𝚙𝚒𝚗𝚐𝙲𝚕𝚘𝚜𝚎𝚍𝙻𝚘𝚘𝚙.𝚖}$.",
      "metadata": {}
    }
  ]
}