{
 "cells": [
  {
   "cell_type": "markdown",
   "metadata": {},
   "source": [
    "# Problem 1. [100 Points] Platooning"
   ]
  },
  {
   "cell_type": "markdown",
   "metadata": {},
   "source": [
    "In a single lane straight road, $N$ vehicles are moving to the right with respective 1D position coordinates $x_{1}, x_{2}, ..., x_{N}$. See Fig. showing an example scenario for $N=4$.\n",
    "\n",
    "<img src=\"Platooning.png\" width=\"800\">\n",
    "\n",
    "Suppose that all vehicles have identical discrete time controlled dynamics $x_{i}(k+1) = x_{i}(k) + h (u_{i}(k) - v)$, $i=1,2,...,N$, for time index $k=0,...,T-1$. The parameter $h>0$ is given constant sampling time. The control $u_{i}$ can be thought of as the speed of the $i$th vehicle, and $v$ is a known speed limit.\n",
    "\n",
    "Here is the high level question of interest: what should be the optimal controls such that all consecutive vehicles maintain a separation close to some (known) desired distance $d$ at all times? A separation smaller than $d$ may be unsafe, and thus undesirable. A separation more than $d$ reduces traffic throughput, and therefore also undesirable. We also want all vehicles to move at a speed close to the known speed limit $v$. "
   ]
  },
  {
   "cell_type": "markdown",
   "metadata": {},
   "source": [
    "## (a) [35 points] OCP formulation\n",
    "\n",
    "Motivated by the aforesaid objective, consider minimizing\n",
    "\n",
    "$$ \\frac{1}{2}\\displaystyle\\sum_{i=1}^{N-1} (x_{i+1}(T)-x_{i}(T)-d)^{2} + \\frac{1}{2}\\displaystyle\\sum_{k=0}^{T-1}\\bigg\\{\\displaystyle\\sum_{i=1}^{N-1} (x_{i+1}(k)-x_{i}(k)-d)^{2} + \\displaystyle\\sum_{i=1}^{N}(u_{i}(k) - v)^{2}\\bigg\\}$$\n",
    "\n",
    "subject to $x_{i}(k+1) = x_{i}(k) + h (u_{i}(k)-v)$, $i=1,2,...,N$. Consider the final time $T$ fixed.\n",
    "\n",
    "Recast this problem as discrete time finite horizon LQ tracking by clearly defining the **state vector $x$ and its dimension**, the **control vector $u$ and its dimension**, the **output vector $y$ and its dimension**, the **desired output trajectory $y_{d}$ to track**, the **system matrices $A,B,C$**, and the **weight matrices $M,Q,R$ in the cost function**.  \n",
    "\n",
    "**Hint:** Take a look at Lec. 10, p. 3 to see how LQ tracking problem was formulated in the continuous time case. See also part (b) to get a hint on the problem structure."
   ]
  },
  {
   "cell_type": "markdown",
   "metadata": {},
   "source": [
    "## (b) [35 points] Discrete time LQ tracking solution\n",
    "\n",
    "**Extend the derivation** in Lec. 10, p. 15-23 for the tracking case:\n",
    "\n",
    "$$\\underset{\\{u_{k}\\}_{k=0}^{T-1}}{\\text{minimize}}\\quad \\frac{1}{2}\\bigg\\{(y(T)-y_{d}(T))^{\\prime}M(y(T)-y_{d}(T)) + \\displaystyle\\sum_{k=0}^{T-1}(y(k)-y_{d}(k))^{\\prime}Q(y(k)-y_{d}(k)) + (u(k))^{\\prime}R u(k)\\bigg\\}$$\n",
    "\n",
    "subject to $x(k+1) = A x(k) + B u(k)$, $y(k)=Cx(k)$, $k=0,1,...,T-1$.\n",
    "\n",
    "**Hint:** Just like the continuous time LQ tracking solution given in Lec. 10, here too you should get optimal control as a sum of a linear state feedback term, and a feedforward term. You need to derive a backward **vector** recursion for the feedforward control. Also derive how the Riccati backward recursion needs to be modified in this case, compared to the same for LQR."
   ]
  },
  {
   "cell_type": "markdown",
   "metadata": {},
   "source": [
    "## (c) [30 points] Optimal control for platooning\n",
    "\n",
    "Apply your answer in part (b) to the formulation in part (a), to **compute and plot** $y^{\\text{opt}}(k)$ superimposed with $y_{d}(k)$. Also plot $u^{\\text{opt}}(k)$. To make these plots, fix $T=200$, $h=0.01$, $N=4$, and the initial conditions $x_{1}(0) = 0$ ft, $x_{2}(0)=250$ ft, $x_{3}(0)=480$ ft, $x_{4}(0)=780$ ft.\n",
    "\n",
    "Please submit your single MATLAB code generating these plots."
   ]
  }
 ],
 "metadata": {
  "kernelspec": {
   "display_name": "Python 2",
   "language": "python",
   "name": "python2"
  },
  "language_info": {
   "codemirror_mode": {
    "name": "ipython",
    "version": 2
   },
   "file_extension": ".py",
   "mimetype": "text/x-python",
   "name": "python",
   "nbconvert_exporter": "python",
   "pygments_lexer": "ipython2",
   "version": "2.7.16"
  }
 },
 "nbformat": 4,
 "nbformat_minor": 2
}
