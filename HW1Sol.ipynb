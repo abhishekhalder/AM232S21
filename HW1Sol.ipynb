{
 "cells": [
  {
   "cell_type": "markdown",
   "metadata": {},
   "source": [
    "# Problem 1 [100 points] Shape of co-axial soap film \n",
    "\n",
    "<img src=\"SoapFilm.png\">\n",
    "\n",
    "Consider dipping two co-axial wire rings of **equal radius $r$** in soapy water (try it at home) and slowly pull them away from each other. You should see that the soap film forms a surface of revolution shown in the left figure above. The purpose of this exercise is to determine the equuation of this surface."
   ]
  },
  {
   "cell_type": "markdown",
   "metadata": {},
   "source": [
    "## (a) [10 + 10 = 20 points] Standard CoV form\n",
    "\n",
    "Let the common axis of the two rings be the $x$-axis, as shown in the right figure above. As shown, consider placing the center of the two rings at $x = \\pm L$. The soap film surface takes **the shape that minimizes the energy due to surface tension**.\n",
    "\n",
    "Due to the rings being co-axial, the soap film surface must be a surface of revolution of some curve $y=u(x)$, see right figure. Therefore, the infinitesimal surface area of a strip of length ${\\rm{d}}s$ equals $2\\pi y\\:{\\rm{d}}s$. The energy due to surface tension for that strip, then, equals\n",
    "\n",
    "$${\\rm{d}}E = \\underbrace{\\text{surface tension coefficient}}_{\\sigma\\;(\\text{known constant})} \\times \\underbrace{\\text{surface area}}_{2\\pi y\\:{\\rm{d}}s} = 2\\pi\\sigma u(x)\\:{\\rm{d}}s.$$\n",
    "\n",
    "(i) Given the data $r,L$, **write the problem** $\\underset{u\\in C^{1}([-L,L])}{\\min}\\:\\int_{x=-L}^{x=L}{\\rm{d}}E\\;$ **in the standard CoV form with appropriate boundary conditions**.\n",
    "\n",
    "(ii) From there, **clearly write down the Lagrangian** $\\mathcal{L}(x,u,u^{\\prime})$."
   ]
  },
  {
   "cell_type": "markdown",
   "metadata": {},
   "source": [
    "## Solution for Part (a):\n",
    "\n",
    "(i) Since ${\\rm{d}}s = \\sqrt{1 + (u^{\\prime})^{2}}\\:{\\rm{d}}x$, this CoV problem can be transcribed into the standard form\n",
    "\n",
    "$$\\underset{u\\in C^{1}([-L,L])}{\\min}\\:2\\pi\\sigma\\:\\int_{x=-L}^{x=L}u\\sqrt{1 + (u^{\\prime})^{2}}\\:{\\rm{d}}x, \\quad u(-L)=u(L)=r.$$\n",
    "\n",
    "(ii) From Part (a)(i), we identify the Lagrangian $\\mathcal{L}$ as\n",
    "$$\\mathcal{L}(x,u,u^{\\prime}) = u\\sqrt{1 + (u^{\\prime})^{2}}.$$"
   ]
  },
  {
   "cell_type": "markdown",
   "metadata": {},
   "source": [
    "## (b) [10 points] Existence of minimizer\n",
    "\n",
    "Consider the Theorem in Lec. 3, p. 5. **Carefully argue** if the minimizer for the problem in part (a) is guaranteed to exist or not. Give all the details."
   ]
  },
  {
   "cell_type": "markdown",
   "metadata": {},
   "source": [
    "## Solution for Part (b):\n",
    "\n",
    "To consider the Theorem in Lec. 3, p. 5, we need to investigate whether $\\mathcal{L}(x,u,p)$ as function of $p$, is convex and 1-coercive.\n",
    "\n",
    "Let $\\begin{pmatrix}\n",
    "p\\\\\n",
    "1\n",
    "\\end{pmatrix} = \\begin{pmatrix}\n",
    "1\\\\\n",
    "0\n",
    "\\end{pmatrix}p + \\begin{pmatrix}\n",
    "0\\\\\n",
    "1\n",
    "\\end{pmatrix}$, that is, the vector $\\begin{pmatrix}\n",
    "p\\\\\n",
    "1\n",
    "\\end{pmatrix}$ is an affine transformation of $p$. Thus, $\\sqrt{1 + p^{2}} = \\bigg\\|\\begin{pmatrix}\n",
    "p\\\\\n",
    "1\n",
    "\\end{pmatrix}\\bigg\\|_{2}$ is composition of a convex function (2-norm) with an affine map, and hence is convex in $p$. Therefore, $\\mathcal{L}(x,u,p) = u\\sqrt{1 + p^{2}}$ is convex in $p$ for all $x,u$.\n",
    "\n",
    "Even though $\\mathcal{L}$ is not 1-coercive (a.k.a. superlinear) in $p$, it is in fact 0-coercive (a.k.a. radially unbounded) in $p$, i.e., \n",
    "$$\\displaystyle\\lim_{|p|\\rightarrow\\infty} \\dfrac{\\mathcal{L}(x,u,p)}{|p|^{0}} = u\\displaystyle\\lim_{|p|\\rightarrow\\infty}\\sqrt{1 + p^{2}} = +\\infty.$$\n",
    "So the minimizer exists (but may not be unique)."
   ]
  },
  {
   "cell_type": "markdown",
   "metadata": {},
   "source": [
    "## (c) [5 + 35 = 40 points] Computing the optimal solution\n",
    "\n",
    "(i) Can we use the **Beltrami identity** to compute the optimal solution for the problem in part (a)? **Why/why not?**\n",
    "\n",
    "(ii) **Prove that** the optimal solution is $u^{*}(x) = c\\:\\cosh\\left(\\dfrac{x}{c}\\right)$ where $\\cosh(\\cdot)$ denotes the hyperbolic cosine, and the constant $k:=1/c$ solves a transcendental equation\n",
    "$$k r = \\cosh\\left(kL\\right).$$"
   ]
  },
  {
   "cell_type": "markdown",
   "metadata": {},
   "source": [
    "## Solution for Part (c):\n",
    "\n",
    "(i) Yes, we can use the Beltrami identity since our Lagrangian $\\mathcal{L}$ is does not have an explicit dependence on $x$.\n",
    "\n",
    "(ii) Applying Beltrami identity $\\mathcal{L} - u^{\\prime}\\dfrac{\\partial\\mathcal{L}}{\\partial u^{\\prime}} = c\\;\\text{(constant)}$, we get\n",
    "\n",
    "\\begin{align*}\n",
    "&u\\sqrt{1 + (u^{\\prime})^{2}} - u^{\\prime}\\dfrac{2 u u^{\\prime}}{2\\sqrt{1 + (u^{\\prime})^{2}}} = c\\\\\n",
    "\\Rightarrow\\quad&\\dfrac{u}{\\sqrt{1 + (u^{\\prime})^{2}}} = c\\\\\n",
    "\\Rightarrow\\quad&\\dfrac{{\\rm{d}}u}{{\\rm{d}}x} = \\sqrt{\\dfrac{u^2}{c^2} - 1}.\n",
    "\\end{align*}\n",
    "Now we substitute $u = c\\:\\cosh(z)$ for some constant $c\\neq 0$, which implies $\\dfrac{{\\rm{d}}u}{{\\rm{d}}x}=c\\:\\sinh(z)\\dfrac{{\\rm{d}}z}{{\\rm{d}}x}$. Therefore, the above ODE becomes\n",
    "\n",
    "$$c\\:\\sinh(z)\\dfrac{{\\rm{d}}z}{{\\rm{d}}x} = \\sinh(z).$$\n",
    "\n",
    "Now there are two possibilities. **Either** $\\sinh(z)= 0$, **or** $\\sinh(z)\\neq 0$.\n",
    "\n",
    "**Possibility 1:** If $\\sinh(z)= 0$, then $\\cosh(z)=1$ and hence $u=c\\cosh(z)=$ constant function. From boundary conditions $u(-L)=u(L)=r$, we then get $u(x)=r$ for all $x\\in[-L,L]$, i.e., the soap film surface would be a circular cylinder of radius $r$ and length $2L$. The corresponding value of the objective becomes $4\\pi\\sigma r L$.\n",
    "\n",
    "**Possibility 2:** If $\\sinh(z)\\neq 0$, then we can cancel $\\sinh(z)$ from both sides of the above ODE, and we obtain\n",
    "\n",
    "$$\\dfrac{{\\rm{d}}z}{{\\rm{d}}x} = \\dfrac{1}{c} \\quad \\Rightarrow \\quad z = \\dfrac{x}{c} + c_{0}, \\quad c_{0}\\;\\text{is another constant}, \\quad\\Rightarrow\\quad u = c\\cosh\\left(\\dfrac{x}{c} + c_{0}\\right).$$\n",
    "\n",
    "The boundary condition $u(-L)=u(L)$ gives\n",
    "$$c\\cosh\\left(\\dfrac{L}{c} + c_{0}\\right) = c\\cosh\\left(-\\dfrac{L}{c} + c_{0}\\right)\\\\ \\Rightarrow \\cosh\\left(\\dfrac{L}{c}\\right)\\cosh(c_{0}) +  \\sinh\\left(\\dfrac{L}{c}\\right)\\sinh(c_{0}) = \\cosh\\left(-\\dfrac{L}{c}\\right)\\cosh(c_{0}) + \\sinh\\left(-\\dfrac{L}{c}\\right)\\sinh(c_{0})\\quad \\left[\\text{since}\\; c\\neq 0\\right]\\\\\n",
    "\\Rightarrow 2\\sinh\\left(\\dfrac{L}{c}\\right)\\sinh(c_{0}) = 0, \\quad \\left[\\text{since}\\;\\cosh(\\cdot)\\;\\text{is even function},\\;\\text{and}\\sinh(\\cdot)\\;\\text{is odd function}\\right].$$\n",
    "Because $\\sinh(\\cdot)$ is zero only at zero, and $L\\neq 0$, the above yields $c_{0}=0$. Therefore, the solution is\n",
    "$$u(x) = c\\cosh\\left(\\dfrac{x}{c}\\right).$$\n",
    "This curve is called the **catenary** and the resulting surface of revolution is called a **catenoid**. \n",
    "\n",
    "To determine the constant $c$, we again use the boundary condition $r=u(-L)=u(L)$, to get\n",
    "$$\\dfrac{r}{c} = \\cosh\\left(\\dfrac{L}{c}\\right) \\quad\\Leftrightarrow\\quad k r = \\cosh\\left(kL\\right),$$\n",
    "where $k:=1/c$. \n",
    "\n",
    "To understand whether this solution can lower the objective than **possibility 1**, notice that the objective for **possibility 2** evaluates to\n",
    "$$2\\pi\\sigma\\displaystyle\\int_{x=-L}^{x=+L}c\\cosh^{2}\\left(\\dfrac{x}{c}\\right)\\:{\\rm{d}}x = 2\\pi\\sigma c\\left(L + r\\sinh\\left(\\frac{L}{c}\\right)\\right).$$\n",
    "\n",
    "So for possibility 2 to be the minimum, we must have the above integral to be less than $4\\pi\\sigma c r L$, or equivalently,\n",
    "$$2k > \\dfrac{1}{r} + \\dfrac{1}{L}\\sinh(kL).$$\n",
    "In part (d) code, we will see that the above inequality holds."
   ]
  },
  {
   "cell_type": "markdown",
   "metadata": {},
   "source": [
    "## (d) [10 + 10 + 10 = 30 points] Numerics\n",
    "\n",
    "**Please submit your MATLAB code for the following**.\n",
    "\n",
    "(i) Let us fix the problem data $L=1$, and recall that the radius $r$ (also problem data) must be positive. Write a simple MATLAB code to uniformly discretize $k\\in[-5,5]$ in the steps of 0.01. Then use the same code to **generate a lineplot** of $k$ (in the horizontal axis) versus $r$ (in the vertical axis) **verifying that** there is (unique) minimum value of $r_{\\min}>0$ such that for $r=r_{\\min}$ we have exactly one solution, for $r>r_{\\min}$ there are two solutions, and for $r<r_{\\min}$ there are no solutions.\n",
    "\n",
    "(ii) Use the same code in part (d)-(i), **to compute** $r_{\\min}$.\n",
    "\n",
    "(iii) Use the same code in part (d)-(i), **to plot the unique minimum energy surface formed by the soap film** for $r=r_{\\min}$ computed in part (d)-(ii)."
   ]
  },
  {
   "cell_type": "markdown",
   "metadata": {},
   "source": [
    "## Solution for part (d):\n",
    "\n",
    "Please see the posted solution in CANVAS File Section, folder HW: $\\texttt{UCSC_AM232_S21_HW1.m}$"
   ]
  }
 ],
 "metadata": {
  "kernelspec": {
   "display_name": "Python 2",
   "language": "python",
   "name": "python2"
  },
  "language_info": {
   "codemirror_mode": {
    "name": "ipython",
    "version": 2
   },
   "file_extension": ".py",
   "mimetype": "text/x-python",
   "name": "python",
   "nbconvert_exporter": "python",
   "pygments_lexer": "ipython2",
   "version": "2.7.16"
  }
 },
 "nbformat": 4,
 "nbformat_minor": 2
}
