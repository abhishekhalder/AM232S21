{
 "cells": [
  {
   "cell_type": "markdown",
   "metadata": {},
   "source": [
    "# Problem 1. [50 points] Particle inside a Cone\n",
    "\n",
    "<img src=\"cone.png\" width=\"200\">\n",
    "\n",
    "Consider a particle of mass $m$ (in red) sliding down (due to Earth's gravity) along the frinctionless inner surface of a right circular cone whose vertex is fixed to the ground, and its axis is vertical, see Figure. The half angle at the apex is equal to $\\alpha$, as shown.\n",
    "\n",
    "Suppose that at a generic time $t$, the distance of the particle from the vertical axis is $r(t)$, and its angular position in the conic cross-section is $\\theta(t)$, as shown in the Figure."
   ]
  },
  {
   "cell_type": "markdown",
   "metadata": {},
   "source": [
    "## (a) [30 points] Equation of motion\n",
    "\n",
    "Use Euler-Lagrange equation to **prove that** there exists a constant $k$ such that $r(t)$ satisfies the ODE\n",
    "\n",
    "$$\\ddot{r} - \\frac{k\\sin^{2}\\alpha}{m^2 r^3} + g\\sin\\alpha\\cos\\alpha = 0,$$\n",
    "where $g$ is the (constant) acceleration due to gravity."
   ]
  },
  {
   "cell_type": "markdown",
   "metadata": {},
   "source": [
    "## Solution for 1(a):\n",
    "\n",
    "In cylindrical coordinates, the position of the particle is $\\left(r,\\theta,\\dfrac{r}{\\tan\\alpha}\\right)$. By Lec. 5, p. 3, the kinetic energy is\n",
    "\n",
    "$$T = \\dfrac{1}{2}m\\left(\\dot{r}^{2} + r^{2}\\dot{\\theta}^{2} + \\dfrac{\\dot{r}^{2}}{\\tan^{2}\\alpha}\\right) = \\dfrac{1}{2}m\\left(\\dfrac{\\dot{r}^{2}}{\\sin^{2}\\alpha}+r^{2}\\dot{\\theta}^{2}\\right).$$\n",
    "The potential energy is\n",
    "$$V = mg\\dfrac{r}{\\tan\\alpha}.$$\n",
    "Therefore, the Lagrangian\n",
    "$$\\mathcal{L} = T - V = \\dfrac{1}{2}m\\left(\\dfrac{\\dot{r}^{2}}{\\sin^{2}\\alpha}+r^{2}\\dot{\\theta}^{2}\\right) - \\dfrac{mgr}{\\tan\\alpha}.$$\n",
    "We have EL equations:\n",
    "$$\\dfrac{{\\rm{d}}}{{\\rm{d}}t}\\left(\\dfrac{\\partial\\mathcal{L}}{\\partial\\dot{r}}\\right) - \\dfrac{\\partial\\mathcal{L}}{\\partial r} = 0 \\qquad(*), \\qquad \\dfrac{{\\rm{d}}}{{\\rm{d}}t}\\left(\\dfrac{\\partial\\mathcal{L}}{\\partial\\dot{\\theta}}\\right) - \\dfrac{\\partial\\mathcal{L}}{\\partial \\theta} = 0 \\qquad(**).$$\n",
    "\n",
    "Substituting our Lagrangian in $(*)$, we get\n",
    "\n",
    "$$\\dfrac{m\\ddot{r}}{\\sin^{2}\\alpha} - mr\\dot{\\theta}^{2} + \\dfrac{mg}{\\tan\\alpha} = 0 \\quad\\Rightarrow\\quad m\\ddot{r} - mr\\dot{\\theta}^{2}\\sin^{2}\\alpha + mg\\sin\\alpha\\cos\\alpha = 0 \\quad(***).$$\n",
    "\n",
    "Substituting our Lagrangian in $(**)$, we get\n",
    "\n",
    "$$\\dfrac{{\\rm{d}}}{{\\rm{d}}t}\\left(mr^{2}\\dot{\\theta}\\right)=0 \\quad\\Rightarrow\\quad mr^{2}\\dot{\\theta} = c\\;\\text{(some constant)} \\quad\\Rightarrow\\quad \\dot{\\theta}^{2} = \\dfrac{k}{m^{2}r^{4}} \\;\\text{where $k:=c^{2}\\;$(constant)}\\quad(****).$$\n",
    "\n",
    "In $(***)$, we substitute for $\\dot{\\theta}^{2}$ using $(****)$, to obtain\n",
    "\n",
    "$$\\ddot{r} - \\frac{k\\sin^{2}\\alpha}{m^2 r^3} + g\\sin\\alpha\\cos\\alpha = 0,$$\n",
    "as desired."
   ]
  },
  {
   "cell_type": "markdown",
   "metadata": {},
   "source": [
    "## (b) [(4 + 4 + 2) + 10 = 20 points] Conserved quantities\n",
    "\n",
    "(b.1) **Compute** the total energy $E$, and the Hamiltonian $H$ at a generic time $t$. Is $H=E$ in this case?\n",
    "\n",
    "(b.2) Use your answer in part (b.1) to conclude if any of the two quantities among $H$ and $E$ is a constant of motion."
   ]
  },
  {
   "cell_type": "markdown",
   "metadata": {},
   "source": [
    "## Solution for 1(b.1)\n",
    "\n",
    "The total energy $E = T+V = \\dfrac{1}{2}m\\left(\\dfrac{\\dot{r}^{2}}{\\sin^{2}\\alpha}+r^{2}\\dot{\\theta}^{2}\\right) + \\dfrac{mgr}{\\tan\\alpha}$.\n",
    "\n",
    "The Hamiltonian \n",
    "$$H = \\dfrac{\\partial\\mathcal{L}}{\\partial\\dot{r}}\\dot{r} + \\dfrac{\\partial\\mathcal{L}}{\\partial\\dot{\\theta}}\\dot{\\theta} - \\mathcal{L} = \\dfrac{m\\dot{r}^{2}}{\\sin^{2}\\alpha} + mr^{2}\\dot{\\theta}^{2} - \\dfrac{1}{2}\\dfrac{m\\dot{r}^{2}}{\\sin^{2}\\alpha} - \\dfrac{1}{2}mr^{2}\\dot{\\theta}^{2} + \\dfrac{mgr}{\\tan\\alpha} = \\dfrac{1}{2}\\dfrac{m\\dot{r}^{2}}{\\sin^{2}\\alpha} + \\dfrac{1}{2}mr^{2}\\dot{\\theta}^{2} + \\dfrac{mgr}{\\tan\\alpha}.$$\n",
    "\n",
    "Therefore, for this problem, $H=E$ at all times $t$."
   ]
  },
  {
   "cell_type": "markdown",
   "metadata": {},
   "source": [
    "## Solution for 1(b.2)\n",
    "\n",
    "From part (b.1), directly taking time derivative, we get\n",
    "\n",
    "$$\\dfrac{{\\rm{d}}H}{{\\rm{d}}t}=\\dfrac{{\\rm{d}}E}{{\\rm{d}}t} = m\\dot{r}\\left(\\dfrac{\\ddot{r}}{\\sin^{2}\\alpha} + r\\dot{\\theta}^{2} + \\dfrac{g}{\\tan\\alpha}\\right) + mr^{2}\\dot{\\theta}\\ddot{\\theta} = m\\dot{r}\\left(2r\\dot{\\theta}^{2}\\right) - 2mr\\dot{r}\\dot{\\theta}^{2} = 0,$$\n",
    "\n",
    "wherein the last but one equality used $(***)$ in part 1(a), and that \n",
    "$$\\dfrac{{\\rm{d}}}{{\\rm{d}}t}\\left(mr^{2}\\dot{\\theta}\\right)=0 \\quad\\Rightarrow\\quad 2mr\\dot{r}\\dot{\\theta} + mr^{2}\\ddot{\\theta}=0 \\quad\\Rightarrow\\quad mr^{2}\\dot{\\theta}\\ddot{\\theta} = -2mr\\dot{r}\\dot{\\theta}^{2}.$$\n",
    "\n",
    "Therefore, in this problem, $H=E=$ constant at all times $t$."
   ]
  },
  {
   "cell_type": "markdown",
   "metadata": {},
   "source": [
    "# Problem 2. [50 points] Brachistochrone as OCP\n",
    "\n",
    "In this exercise, we will solve Brachistochrone as an OCP."
   ]
  },
  {
   "cell_type": "markdown",
   "metadata": {},
   "source": [
    "## (a) [10 points] Reformulation\n",
    "\n",
    "To reformulate the Brachistochrone problem of going from point $A\\equiv(0,0)$ to point $B\\equiv(x_{1},y_{1})$ as a **minimum time optimal control problem** with terminal time $T$ free, and terminal state $(x(T),y(T))$ fixed, consider the control to be the angle $\\theta$ that the velocity vector $V$ (tangent to the curve) makes at a generic location $(x,y)$, with respect to the horizontal direction. **Clealry write down the OCP in this case** following the general template."
   ]
  },
  {
   "cell_type": "markdown",
   "metadata": {},
   "source": [
    "## Solution for 2(a):\n",
    "The optimal control problem is to\n",
    "\n",
    "$$\\underset{\\theta(\\cdot)}{\\text{minimize}}\\quad\\int_{0}^{T}1\\:{\\rm{d}}t$$\n",
    "\n",
    "subject to $\\dot{x}=V\\cos\\theta, \\dot{y}=V\\sin\\theta$, where $V = \\sqrt{2gy}$. The initial condition $(x(0),y(0))\\equiv(0,0)$, and the terminal condition $(x(T),y(T))\\equiv(x_1,y_1)$ are given. There is no terminal cost ($\\phi\\equiv 0$); the terminal constraint is\n",
    "$$\\psi(x(T),T) := \\begin{pmatrix}x(T) - x_{1}\\\\y(T) - y_{1} \\end{pmatrix} = \\begin{pmatrix}0\\\\0\\end{pmatrix}.$$"
   ]
  },
  {
   "cell_type": "markdown",
   "metadata": {},
   "source": [
    "## (b) [30 points] Two identities\n",
    "\n",
    "**Prove that** the optimal position tuple $(x(t),y(t))$ at any time $t\\in[0,T]$, is given by\n",
    "\n",
    "$$x(t) = x_{1} + \\frac{y_{1}}{2\\cos^{2}\\theta(T)}\\bigg\\{2\\left(\\theta(T) - \\theta(t)\\right) + \\sin\\left(2\\theta(T)\\right) - \\sin\\left(2\\theta(t)\\right)\\bigg\\}, \\quad y(t) = y_{1}\\frac{\\cos^{2}\\theta(t)}{\\cos^{2}\\theta(T)}.$$\n",
    "\n",
    "The above two identities allow (numerically) solving for $(\\theta(t),\\theta(T))$ as function of $(x(t),y(t))$. This helps define the optimal state feedback: $\\theta(t)$ as function of $(x(t),y(t))$."
   ]
  },
  {
   "cell_type": "markdown",
   "metadata": {},
   "source": [
    "## Solution for 2(b):\n",
    "\n",
    "The Hamailtonian $H = 1 + \\sqrt{2gy}\\left(\\lambda_{1}\\cos\\theta + \\lambda_{2}\\sin\\theta\\right)$ gives the necessary conditions:\n",
    "\n",
    "\\begin{align}\n",
    "\\dot{\\lambda}_{1} = -\\frac{\\partial H}{\\partial x} = 0, \\quad \\dot{\\lambda}_{2} = -\\frac{\\partial H}{\\partial y} = -\\frac{g}{V}\\left(\\lambda_{1}\\cos\\theta + \\lambda_{2}\\sin\\theta\\right),\\\\\n",
    "0 = \\frac{\\partial H}{\\partial\\theta} = -\\lambda_{1}V\\sin\\theta + \\lambda_{2}V\\cos\\theta. \n",
    "\\end{align}\n",
    "From the costate ODEs, $\\lambda_{1} = $ constant.\n",
    "Since ${{\\rm{d}}x}(T)=0$, and $dT\\neq 0$, the transversality condition yields $H(T) = 0$. But since $H(t)$ has no explcit time dependence, it must be constant along the optimal trajectory, which combined with $H(T) = 0$ gives $H(t)=0$ for all $t\\in[0,T]$. In other words, \n",
    "\\begin{align}\n",
    "H = 1 + \\lambda_{1}V\\cos\\theta + \\lambda_{2}V\\sin\\theta = 0.\n",
    "\\end{align}\n",
    "Eliminating $\\lambda_{2}$ from (2) and (3), we obtain\n",
    "\\begin{align}\n",
    "\\lambda_{1} = -\\frac{\\cos\\theta}{V}.\n",
    "\\end{align}\n",
    "Likewise, eliminating $\\lambda_{1}$ from (2) and (3), we obtain\n",
    "\\begin{align}\n",
    "\\lambda_{2} = -\\frac{\\sin\\theta}{V}.\n",
    "\\end{align}\n",
    "Furthermore, combining (4) with $\\dot{\\lambda}_{1}=0$, we get\n",
    "\\begin{align}\n",
    "0=\\dot{\\lambda}_{1} = \\frac{\\partial\\lambda_{1}}{\\partial\\theta}\\dot{\\theta} + \\frac{\\partial\\lambda_{1}}{\\partial y}\\dot{y} = \\frac{\\sin\\theta}{V}\\dot{\\theta} + \\frac{g\\sin\\theta\\cos\\theta}{V^{2}}\\\\\n",
    "\\Rightarrow\\quad 0 = \\dot{\\theta} + \\frac{g}{V}\\cos\\theta \\quad \\Rightarrow\\quad \\dot{\\theta} = -\\frac{g}{V}\\cos\\theta.\n",
    "\\end{align}\n",
    "\n",
    "Now, evaluating (4) at $t=t$ and $t=T$, and using the fact that $\\lambda_{1}$ is constant, we obtain\n",
    "\\begin{align}\n",
    "\\frac{\\cos\\theta(t)}{\\sqrt{y(t)}} = \\frac{\\cos\\theta(T)}{\\sqrt{y_{1}}} \\quad\\Rightarrow\\quad y(t) = y_{1}\\frac{\\cos^{2}\\theta(t)}{\\cos^{2}\\theta(T)}.\n",
    "\\end{align}\n",
    "\n",
    "Next, we use $\\dot{x}=V\\cos\\theta$, together with (7), to get\n",
    "\\begin{align}\n",
    "V\\cos\\theta = \\dot{x} = \\frac{{\\rm{d}}x}{{\\rm{d}}\\theta}\\dot{\\theta} = \\frac{{\\rm{d}}x}{{\\rm{d}}\\theta} \\times \\left(-\\frac{g}{V}\\cos\\theta\\right) \\quad\\Rightarrow\\quad \\frac{{\\rm{d}}x}{{\\rm{d}}\\theta} = -2y = -\\frac{2y_{1}}{\\cos^{2}\\theta(T)}\\cos^{2}\\theta,\n",
    "\\end{align}\n",
    "\n",
    "wherein the last equality follows from (8). Integrating (9), we have\n",
    "\n",
    "\\begin{align}\n",
    "&\\int_{x=x}^{x=x_{1}}{\\rm{d}}x = -\\frac{2y_{1}}{\\cos^{2}\\theta(T)}\\int_{\\theta=\\theta}^{\\theta=\\theta(T)}\\cos^{2}\\theta\\:{\\rm{d}}\\theta\\nonumber\\\\ \n",
    "\\Rightarrow\\quad &x(t) = x_{1} + \\frac{y_{1}}{2\\cos^{2}\\theta(T)}\\bigg\\{2\\left(\\theta(T) - \\theta(t)\\right) + \\sin\\left(2\\theta(T)\\right) - \\sin\\left(2\\theta(t)\\right)\\bigg\\}.\n",
    "\\end{align}\n",
    "\n",
    "We conclude by noting that (8) and (10) are the desired identities."
   ]
  },
  {
   "cell_type": "markdown",
   "metadata": {},
   "source": [
    "## (c) [2 + 3 + 5 = 10 points] Properties of optimal solution\n",
    "\n",
    "(c.1) **Prove that** the optimal control $\\theta(t)$ satisfies $\\dot{\\theta} = $ constant.\n",
    "\n",
    "(c.2) **Prove that** $\\theta(0) = \\frac{\\pi}{2}$. Give a physical interpretation of this result.\n",
    "\n",
    "(c.3) Letting $\\phi := \\pi - 2\\theta$, use your answer in part (b) to **deduce that** the optimal curve is a cycloid."
   ]
  },
  {
   "cell_type": "markdown",
   "metadata": {},
   "source": [
    "## Solution for 2(c.1):\n",
    "\n",
    "From equations (4) and (7) above, we get $\\dot{\\theta} = g\\lambda_{1} =$ constant, assuming $g$ is constant as in the original Brachistochrone formulation.\n",
    "\n",
    "## Solution for 2(c.2):\n",
    "\n",
    "Evaluating equation (8) above at $t=0$ gives $\\theta(0)=\\frac{\\pi}{2}$. Vertical initial heading is natural since the terminal point $B$ is below the initial point $A$. In other words, to minimize the time to go, it is optimal to increase the vertical coordinate as fast as possible.\n",
    "\n",
    "## Solution for 2(c.3):\n",
    "\n",
    "In equations (8) and (10) above, we substitute $\\theta$ as function of $\\phi$, and define a constant\n",
    "\n",
    "$$a := \\frac{y_{1}}{2\\cos^{2}\\theta(T)} = \\frac{y_{1}}{1-\\cos\\phi(T)}.$$\n",
    "\n",
    "Then (8) gives \n",
    "$$y = a\\left[1 + \\cos(\\pi-\\phi)\\right]=a\\left(1-\\cos\\phi\\right).$$ \n",
    "Similarly, (10) gives \n",
    "$$x-x_{1} + a\\left[\\phi(T) - \\sin\\phi(T)\\right]=a(\\phi-\\sin\\phi).$$\n",
    "The above two equations give the parametric form of a cycloid passing through $(x_1,y_1)$. Here, $\\theta(T)$ (and thus $\\phi(T)$) is such that the cycloid passes though point A with coordinate $(0,0)$."
   ]
  }
 ],
 "metadata": {
  "kernelspec": {
   "display_name": "Python 2",
   "language": "python",
   "name": "python2"
  },
  "language_info": {
   "codemirror_mode": {
    "name": "ipython",
    "version": 2
   },
   "file_extension": ".py",
   "mimetype": "text/x-python",
   "name": "python",
   "nbconvert_exporter": "python",
   "pygments_lexer": "ipython2",
   "version": "2.7.16"
  }
 },
 "nbformat": 4,
 "nbformat_minor": 2
}
