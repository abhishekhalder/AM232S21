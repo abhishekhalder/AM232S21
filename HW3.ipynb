{
 "cells": [
  {
   "cell_type": "markdown",
   "metadata": {},
   "source": [
    "# Problem 1 [55 points] \n",
    "# Minimum Energy State Transfer for a Nonlinear System"
   ]
  },
  {
   "cell_type": "markdown",
   "metadata": {},
   "source": [
    "## (a) [15 points] Warm up exercise on linear time varying ODE\n",
    "\n",
    "This basic ODE exercise does not require any knowledge of control theory, but will soon be useful in a nonlinear optimal control problem that follows. \n",
    "\n",
    "Consider a linear time varying ODE initial value problem (IVP) in unknown $z(t)\\in\\mathbb{R}^{m}$, given by\n",
    "\n",
    "$$\\dot{z} = \\Omega(t)z, \\quad z(0) = z_{0}\\;\\text{(known initial vector)},$$\n",
    "\n",
    "where $\\Omega(t)$ is given time-varying skew-symmetric matrix of size $m\\times m$. **Prove that** the IVP solution is of the form\n",
    "\n",
    "$$z(t) = Q(t)z_{0}, \\quad \\text{where matrix}\\;Q(t)\\;\\text{orthogonal for all time}\\; t.$$\n",
    "\n",
    "**Hint:** Think about the state transition matrix."
   ]
  },
  {
   "cell_type": "markdown",
   "metadata": {},
   "source": [
    "## (b) [10 + 2 + 3 = 15 points] Nonlinear OCP\n",
    "\n",
    "(i) Consider a nonlinear OCP with **final time** $T$ **fixed**, given by\n",
    "\n",
    "\\begin{align*}\n",
    "&\\underset{u(\\cdot)}{\\min}\\;\\int_{0}^{T}\\|u\\|_{2}^{2}\\;{\\mathrm{d}}t\\\\\n",
    "& \\dot{x} = F(x)u, \\quad F(x):= \\begin{bmatrix}\n",
    "f_{1}(x), f_{2}(x), ..., f_{m}(x)\n",
    "\\end{bmatrix}\\in\\mathbb{R}^{n\\times m}, \\quad x\\in\\mathbb{R}^{n}, \\quad u\\in\\mathbb{R}^{m},\\\\\n",
    "& x(t=0) = x_{0}\\;\\text{(given)}, \\quad x(t=T) = x_{T}\\;\\text{(given)},\n",
    "\\end{align*}\n",
    "\n",
    "where the nonlinear vector fields $f_{j}(x)\\in\\mathbb{R}^{n}$ for all $j=1,...,m$. We assume that the system is controllable (this can be checked by some known conditions involving the $f_j$'s, but these details are unnecessary for this problem).\n",
    "\n",
    "**Clearly write down** the first order necessary conditions of optimality for this problem, that is, the state and costate equations, PMP, transversality and boundary conditions **satisfied by the optimal solution of this OCP**.\n",
    "\n",
    "(ii) **Without doing any calculation, argue** if the Hamiltonian along the optimal solution, for this problem, is constant or not.\n",
    "\n",
    "(iii) Write the **optimal Hamiltonian only as a function of the optimal control** (meaning your expression should not be a function of any other variable). **Show all calculations**.  "
   ]
  },
  {
   "cell_type": "markdown",
   "metadata": {},
   "source": [
    "## (c) [(10 + 5) + 5 + 5 = 25 points] Optimal control is unitary\n",
    "\n",
    "(i) Define the Lie bracket of two vector fields $f(x),g(x)$ as $[f,g]:=\\frac{\\partial g}{\\partial x}f - \\frac{\\partial f}{\\partial x}g$. Use your answer in part (b)(i) to **prove that** the optimal control $u^{\\text{opt}}(t)$ for the OCP in part (b) solves an IVP\n",
    "\n",
    "$$\\dot{u}^{\\text{opt}} = M(x^{\\text{opt}},\\lambda^{\\text{opt}})\\:u^{\\text{opt}}, \\quad u^{\\text{opt}}(t=0) = u_{0}^{\\text{opt}}.$$\n",
    "\n",
    "**Derive** the $(i,j)$th entry of the matrix $M\\in\\mathbb{R}^{m\\times m}$ in terms of $x^{\\text{opt}},\\lambda^{\\text{opt}}$ and Lie brackets involving $f_{1}, ..., f_{m}$.\n",
    "\n",
    "(ii) Use your answer in part (c)(i) together with part (a), to **prove that** the optimal control is unitary (i.e., norm preserving):\n",
    "$$\\|u^{\\text{opt}}(t)\\|_{2} = \\|u_{0}^{\\text{opt}}\\|_{2}.$$\n",
    "\n",
    "(iii) Suppose we somehow (say, numerically) compute the optimal control $u^{\\text{opt}}(t)$ for the OCP in part (b)(i). **How will this optimal control change** if we change the Lagrangian in the cost-to-go from $\\|u\\|_{2}^{2}$ to $\\phi(\\|u\\|_{2}^{2})$, where $\\phi : \\mathbb{R} \\mapsto \\mathbb{R}$ is an arbitrary monotone function? **Give one sentence explanation to support your answer**."
   ]
  },
  {
   "cell_type": "markdown",
   "metadata": {},
   "source": [
    "# Problem 2 [45 points] \n",
    "\n",
    "# Optimal Economic Reform\n",
    "\n",
    "Suppose the scalar state $x(t)$ of national economy is governed by the second order ODE\n",
    "\n",
    "$$\\ddot{x} = -\\alpha^{2}x + u, \\quad \\alpha\\in\\mathbb{R}\\setminus\\{0\\}, \\quad t\\geq 0, \\quad x(0)=\\dot{x}(0)=0,$$\n",
    "\n",
    "where $u(t)$ is the effort a Government puts at time $t$ for economic reform. \n",
    "\n",
    "Suppose the Goverment would like to maximize its chance of getting re-elected at the **fixed** terminal time $T$, by bringing the national economy at a healthy state at the time of re-election, while not spending too much effort in economic reform during its tenure, i.e.,\n",
    "$$\\underset{u(\\cdot)}{\\text{maximize}}\\quad x(T) - \\int_{0}^{T}u^{2}\\;{\\mathrm{d}}t.$$\n",
    "\n",
    "In practice, the Government may want to maximize an increasing function of the above cost, but we will ignore such details."
   ]
  },
  {
   "cell_type": "markdown",
   "metadata": {},
   "source": [
    "## (a) [5 + 5 + 8 = 18 points] Standard form\n",
    "\n",
    "(i) **Define the state vector** and **write the second order ODE in state space form**, i.e., as a controlled vector first order ODE.\n",
    "\n",
    "(ii) Use your answer in part (a)(i) to clearly **rewrite the OCP in standard form**. **Identify terminal cost/terminal constraint**, if any.\n",
    "\n",
    "(iii) Write the **Hamiltonian, the costate ODEs, the PMP**, and **the transversality condition** for the OCP in part (a)(ii)."
   ]
  },
  {
   "cell_type": "markdown",
   "metadata": {},
   "source": [
    "## (b) [15 + (10 + 2) = 27 points] Solution of the OCP\n",
    "\n",
    "(i) Find the costates in terms of $t,\\alpha,T$.\n",
    "\n",
    "**Hint:** use the transversality conditions to solve the costate ODE initial value problem.\n",
    "\n",
    "(ii) Compute the **optimal economic reform** $u^{\\text{opt}}(t)$ for the Government. **Also compute the optimal terminal reform** $u^{\\text{opt}}(T)$."
   ]
  }
 ],
 "metadata": {
  "kernelspec": {
   "display_name": "Python 2",
   "language": "python",
   "name": "python2"
  },
  "language_info": {
   "codemirror_mode": {
    "name": "ipython",
    "version": 2
   },
   "file_extension": ".py",
   "mimetype": "text/x-python",
   "name": "python",
   "nbconvert_exporter": "python",
   "pygments_lexer": "ipython2",
   "version": "2.7.16"
  }
 },
 "nbformat": 4,
 "nbformat_minor": 2
}
