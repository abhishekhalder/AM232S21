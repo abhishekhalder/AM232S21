{
 "cells": [
  {
   "cell_type": "markdown",
   "metadata": {},
   "source": [
    "# Problem 1. [50 points] Discrete Time Finite Horizon DP \n",
    "\n",
    "Before start solving this problem, please review Lec. 16, p. 4-8.\n",
    "\n",
    "Given a controlled dynamical system\n",
    "\n",
    "$$x_{k+1} = x_{k} + u_{k}, \\quad u_{k}\\in\\{-1,0\\}, \\quad k=0,1,$$\n",
    "\n",
    "with the initial condition $x_{0} \\equiv 1$. Consider the problem\n",
    "\n",
    "$$\\underset{\\gamma\\in\\Gamma}{\\text{minimize}}\\quad\\alpha\\left(x_{1}^{2}+x_{2}^{2}\\right) + (1-\\alpha)\\left(u_{0}^{2} + u_{1}^{2}\\right)$$\n",
    "\n",
    "subject to the above dynamics, where $\\Gamma$ is the collection of all history dependent randomized policies, and $\\alpha$ is a given constant satisfying $0\\leq \\alpha \\leq 1$. "
   ]
  },
  {
   "cell_type": "markdown",
   "metadata": {},
   "source": [
    "## (a) [(2+2+2) + (3+3+3) = 15 points] State space and costs\n",
    "\n",
    "(i) Clearly write down the state space $\\mathcal{X}_{k}$ for each $k=0,1,2$.\n",
    "\n",
    "(ii) Looking at the objective, clearly write down the costs $c_{k}$ for each $k=0,1,2$."
   ]
  },
  {
   "cell_type": "markdown",
   "metadata": {},
   "source": [
    "## (b) [35 points] Optimal cost-to-go\n",
    "\n",
    "Apply DP recursions to compute the optimal cost-to-go (a.k.a. value function) $V_{0}$. Your final answer should be in the form:\n",
    "\n",
    "$$V_{0} = \\begin{cases}\n",
    "f(\\alpha) & \\text{if}\\quad\\alpha\\leq\\alpha_{0},\\\\\n",
    "g(\\alpha) & \\text{if}\\quad\\alpha > \\alpha_{0},\n",
    "\\end{cases}$$\n",
    "\n",
    "where you need to explicitly compute $f(\\cdot),g(\\cdot),\\alpha_{0}$."
   ]
  },
  {
   "cell_type": "markdown",
   "metadata": {},
   "source": [
    "# Problem 2. [50 points] Continuous Time DP "
   ]
  },
  {
   "cell_type": "markdown",
   "metadata": {},
   "source": [
    "## (a) [25 points] \n",
    "\n",
    "Suppose we have a continuous time DP problem given by the HJB PDE initial value problem\n",
    "\n",
    "$$\\dfrac{\\partial V}{\\partial\\tau} + H_{\\text{opt}}\\left(P\\dfrac{\\partial V}{\\partial x} + q\\right)=0, \\qquad V(\\tau=0,x) = \\phi(x), \\quad x\\in\\mathbb{R}^{n},$$\n",
    "\n",
    "where $H_{\\text{opt}}(z)$ is a convex and 1-coercive function of $z\\in\\mathbb{R}^{n}$. The matrix $P\\succ 0$, and the vector $q\\in\\mathbb{R}^{n}$ are given. \n",
    "\n",
    "Derive a Hopf-Lax formula for the solution $V(\\tau,x)$."
   ]
  },
  {
   "cell_type": "markdown",
   "metadata": {},
   "source": [
    "## (b) [25 points] \n",
    "\n",
    "Consider the continuous time OCP\n",
    "\n",
    "$$\\underset{\\gamma\\in\\Gamma}{\\text{minimize}}\\quad \\| x(T) \\|_{2} + \\int_{0}^{T}\\frac{1}{2}\\|u\\|_{2}^{2}\\:{\\rm{d}}t$$\n",
    "\n",
    "subject to $\\dot{x} = u$, where $x\\in\\mathbb{R}^{n}$. Prove that the value function is of the form\n",
    "\n",
    "$$V(t,x) = \\begin{cases}\n",
    "a(t,x) & \\text{if} \\quad \\|x\\|_{2} \\leq T-t,\\\\\n",
    "b(t,x) & \\text{if} \\quad \\|x\\|_{2} > T-t. \n",
    "\\end{cases}$$\n",
    "\n",
    "Explicitly determine the functions $a(t,x)$ and $b(t,x)$."
   ]
  }
 ],
 "metadata": {
  "kernelspec": {
   "display_name": "Python 2",
   "language": "python",
   "name": "python2"
  },
  "language_info": {
   "codemirror_mode": {
    "name": "ipython",
    "version": 2
   },
   "file_extension": ".py",
   "mimetype": "text/x-python",
   "name": "python",
   "nbconvert_exporter": "python",
   "pygments_lexer": "ipython2",
   "version": "2.7.16"
  }
 },
 "nbformat": 4,
 "nbformat_minor": 2
}
